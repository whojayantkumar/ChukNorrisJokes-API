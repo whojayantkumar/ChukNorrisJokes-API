{
 "cells": [
  {
   "cell_type": "code",
   "execution_count": 4,
   "metadata": {},
   "outputs": [
    {
     "name": "stdout",
     "output_type": "stream",
     "text": [
      "done\n"
     ]
    }
   ],
   "source": [
    "import requests\n",
    "response_data=[]\n",
    "for i in range(1,500):\n",
    "    url = f\"http://api.icndb.com/jokes/{i}\"\n",
    "    response = requests.get(url)\n",
    "    response.encoding = \"utf-8\"\n",
    "    data = response.json()\n",
    "    response_data.append(data)\n",
    "print(\"done\")\n",
    "   "
   ]
  },
  {
   "cell_type": "code",
   "execution_count": 17,
   "metadata": {},
   "outputs": [],
   "source": [
    "with open('ChuckNorrisJokes.csv','w') as f:\n",
    "    idx=1\n",
    "    f.write('ID,Joke' + '\\n')\n",
    "    for data in response_data:\n",
    "        joke_string = ''\n",
    "        if data['type'] == 'success' :\n",
    "            joke_string = str(idx) + ',' + data['value']['joke'] + '\\n'\n",
    "            idx += 1\n",
    "        else:\n",
    "            joke_string = str(idx) + ',' + '\\n'\n",
    "            idx += 1\n",
    "        f.write(joke_string)"
   ]
  },
  {
   "cell_type": "code",
   "execution_count": 11,
   "metadata": {},
   "outputs": [],
   "source": []
  },
  {
   "cell_type": "code",
   "execution_count": null,
   "metadata": {},
   "outputs": [],
   "source": []
  }
 ],
 "metadata": {
  "kernelspec": {
   "display_name": "Python 3",
   "language": "python",
   "name": "python3"
  },
  "language_info": {
   "codemirror_mode": {
    "name": "ipython",
    "version": 3
   },
   "file_extension": ".py",
   "mimetype": "text/x-python",
   "name": "python",
   "nbconvert_exporter": "python",
   "pygments_lexer": "ipython3",
   "version": "3.8.5"
  }
 },
 "nbformat": 4,
 "nbformat_minor": 4
}
